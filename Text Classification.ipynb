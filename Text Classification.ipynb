{
 "cells": [
  {
   "cell_type": "markdown",
   "metadata": {},
   "source": [
    "# <strong>Importing Packages</strong>\n",
    "***********"
   ]
  },
  {
   "cell_type": "code",
   "execution_count": 300,
   "metadata": {
    "ExecuteTime": {
     "end_time": "2018-09-16T06:57:43.603764Z",
     "start_time": "2018-09-16T06:57:43.594352Z"
    },
    "collapsed": true
   },
   "outputs": [],
   "source": [
    "import pandas as pd\n",
    "import glob\n",
    "import json\n",
    "import os\n",
    "import matplotlib.pyplot as plt\n",
    "%matplotlib inline\n",
    "\n",
    "\n",
    "from bs4 import BeautifulSoup\n",
    "import re\n",
    "\n",
    "from gensim.models.word2vec import Word2Vec\n",
    "from gensim import models\n",
    "\n",
    "from sklearn.metrics import confusion_matrix,roc_curve,auc\n",
    "from sklearn import preprocessing\n",
    "from sklearn.feature_extraction.text import TfidfVectorizer\n",
    "from sklearn.preprocessing import LabelEncoder\n",
    "import time\n",
    "\n",
    "\n",
    "import nltk\n",
    "from nltk.corpus import stopwords\n",
    "stopwordsList=stopwords.words('english')\n",
    "\n",
    "from keras.models import Sequential\n",
    "from keras.layers import Dense, Dropout, Activation\n",
    "from keras.layers import Embedding\n",
    "from keras.layers import Conv1D, GlobalMaxPooling1D,MaxPooling1D\n",
    "\n",
    "from keras.preprocessing.text import Tokenizer\n",
    "from keras.preprocessing import sequence\n",
    "from keras.optimizers import Adam\n",
    "\n",
    "import time\n",
    "from keras import metrics"
   ]
  },
  {
   "cell_type": "markdown",
   "metadata": {},
   "source": [
    "# Reading the file\n",
    "\n",
    "*******************\n",
    "\n",
    "    \n",
    "        "
   ]
  },
  {
   "cell_type": "markdown",
   "metadata": {
    "ExecuteTime": {
     "end_time": "2018-09-14T17:09:46.890552Z",
     "start_time": "2018-09-14T17:09:46.887301Z"
    }
   },
   "source": [
    " <i>Fetching the Document Id and the description from all the json file.</i>\n",
    "    "
   ]
  },
  {
   "cell_type": "code",
   "execution_count": 301,
   "metadata": {
    "ExecuteTime": {
     "end_time": "2018-09-16T06:57:45.404247Z",
     "start_time": "2018-09-16T06:57:45.325915Z"
    },
    "collapsed": false
   },
   "outputs": [
    {
     "data": {
      "text/html": [
       "<div>\n",
       "<style scoped>\n",
       "    .dataframe tbody tr th:only-of-type {\n",
       "        vertical-align: middle;\n",
       "    }\n",
       "\n",
       "    .dataframe tbody tr th {\n",
       "        vertical-align: top;\n",
       "    }\n",
       "\n",
       "    .dataframe thead th {\n",
       "        text-align: right;\n",
       "    }\n",
       "</style>\n",
       "<table border=\"1\" class=\"dataframe\">\n",
       "  <thead>\n",
       "    <tr style=\"text-align: right;\">\n",
       "      <th></th>\n",
       "      <th>description</th>\n",
       "      <th>Document ID</th>\n",
       "    </tr>\n",
       "  </thead>\n",
       "  <tbody>\n",
       "    <tr>\n",
       "      <th>0</th>\n",
       "      <td>Urgent positions for Travel Executive at Saane...</td>\n",
       "      <td>5922081</td>\n",
       "    </tr>\n",
       "    <tr>\n",
       "      <th>1</th>\n",
       "      <td>Dear Candidate,Greetings From Continental Immi...</td>\n",
       "      <td>6523883</td>\n",
       "    </tr>\n",
       "    <tr>\n",
       "      <th>2</th>\n",
       "      <td>We Have urgent poitions for Ticketing Executiv...</td>\n",
       "      <td>6600981</td>\n",
       "    </tr>\n",
       "    <tr>\n",
       "      <th>3</th>\n",
       "      <td>We Have Urgent positions for Travel booking cu...</td>\n",
       "      <td>6686185</td>\n",
       "    </tr>\n",
       "    <tr>\n",
       "      <th>4</th>\n",
       "      <td>Experience in Travel Industry.We have urgent o...</td>\n",
       "      <td>6726409</td>\n",
       "    </tr>\n",
       "  </tbody>\n",
       "</table>\n",
       "</div>"
      ],
      "text/plain": [
       "                                         description  Document ID\n",
       "0  Urgent positions for Travel Executive at Saane...      5922081\n",
       "1  Dear Candidate,Greetings From Continental Immi...      6523883\n",
       "2  We Have urgent poitions for Ticketing Executiv...      6600981\n",
       "3  We Have Urgent positions for Travel booking cu...      6686185\n",
       "4  Experience in Travel Industry.We have urgent o...      6726409"
      ]
     },
     "execution_count": 301,
     "metadata": {},
     "output_type": "execute_result"
    }
   ],
   "source": [
    "id_list=[]\n",
    "description_list=[]\n",
    "\n",
    "#Fetching the Records\n",
    "for directory_path in glob.glob('docs/*.json'):\n",
    "    with open(directory_path) as f:\n",
    "        data = json.load(f)\n",
    "    id_list.append(os.path.basename(directory_path).split('.')[0])\n",
    "    description_list.append(data['jd_information']['description'])\n",
    "\n",
    "df_description=pd.DataFrame()\n",
    "\n",
    "df_description['description']=description_list\n",
    "\n",
    "#DOCUMENT ID saved as string converting it to integer\n",
    "df_description['Document ID']=list(map(int, id_list))\n",
    "df_description.head()"
   ]
  },
  {
   "cell_type": "markdown",
   "metadata": {},
   "source": [
    "********************************\n",
    "<i>Fetching the Document ID and Department from the csv file</i>"
   ]
  },
  {
   "cell_type": "code",
   "execution_count": 302,
   "metadata": {
    "ExecuteTime": {
     "end_time": "2018-09-16T06:57:46.772638Z",
     "start_time": "2018-09-16T06:57:46.760780Z"
    },
    "collapsed": false
   },
   "outputs": [
    {
     "data": {
      "text/html": [
       "<div>\n",
       "<style scoped>\n",
       "    .dataframe tbody tr th:only-of-type {\n",
       "        vertical-align: middle;\n",
       "    }\n",
       "\n",
       "    .dataframe tbody tr th {\n",
       "        vertical-align: top;\n",
       "    }\n",
       "\n",
       "    .dataframe thead th {\n",
       "        text-align: right;\n",
       "    }\n",
       "</style>\n",
       "<table border=\"1\" class=\"dataframe\">\n",
       "  <thead>\n",
       "    <tr style=\"text-align: right;\">\n",
       "      <th></th>\n",
       "      <th>Document ID</th>\n",
       "      <th>Department</th>\n",
       "    </tr>\n",
       "  </thead>\n",
       "  <tbody>\n",
       "    <tr>\n",
       "      <th>0</th>\n",
       "      <td>8196431</td>\n",
       "      <td>Customer service</td>\n",
       "    </tr>\n",
       "    <tr>\n",
       "      <th>1</th>\n",
       "      <td>8278123</td>\n",
       "      <td>Digital Marketing</td>\n",
       "    </tr>\n",
       "    <tr>\n",
       "      <th>2</th>\n",
       "      <td>8331625</td>\n",
       "      <td>Sales</td>\n",
       "    </tr>\n",
       "    <tr>\n",
       "      <th>3</th>\n",
       "      <td>8331003</td>\n",
       "      <td>Back office ticketing</td>\n",
       "    </tr>\n",
       "    <tr>\n",
       "      <th>4</th>\n",
       "      <td>8277939</td>\n",
       "      <td>Digital Marketing</td>\n",
       "    </tr>\n",
       "  </tbody>\n",
       "</table>\n",
       "</div>"
      ],
      "text/plain": [
       "   Document ID             Department\n",
       "0      8196431       Customer service\n",
       "1      8278123      Digital Marketing\n",
       "2      8331625                  Sales\n",
       "3      8331003  Back office ticketing\n",
       "4      8277939      Digital Marketing"
      ]
     },
     "execution_count": 302,
     "metadata": {},
     "output_type": "execute_result"
    }
   ],
   "source": [
    "df_label=pd.read_csv('document_departments.csv')\n",
    "df_label.head()"
   ]
  },
  {
   "cell_type": "markdown",
   "metadata": {},
   "source": [
    "*************************************************\n",
    "<i> Joining the two Table taking Document ID as key.</i>"
   ]
  },
  {
   "cell_type": "code",
   "execution_count": 303,
   "metadata": {
    "ExecuteTime": {
     "end_time": "2018-09-16T06:57:48.100375Z",
     "start_time": "2018-09-16T06:57:48.088500Z"
    },
    "collapsed": false
   },
   "outputs": [
    {
     "data": {
      "text/html": [
       "<div>\n",
       "<style scoped>\n",
       "    .dataframe tbody tr th:only-of-type {\n",
       "        vertical-align: middle;\n",
       "    }\n",
       "\n",
       "    .dataframe tbody tr th {\n",
       "        vertical-align: top;\n",
       "    }\n",
       "\n",
       "    .dataframe thead th {\n",
       "        text-align: right;\n",
       "    }\n",
       "</style>\n",
       "<table border=\"1\" class=\"dataframe\">\n",
       "  <thead>\n",
       "    <tr style=\"text-align: right;\">\n",
       "      <th></th>\n",
       "      <th>description</th>\n",
       "      <th>Document ID</th>\n",
       "      <th>Department</th>\n",
       "    </tr>\n",
       "  </thead>\n",
       "  <tbody>\n",
       "    <tr>\n",
       "      <th>0</th>\n",
       "      <td>Urgent positions for Travel Executive at Saane...</td>\n",
       "      <td>5922081</td>\n",
       "      <td>Customer service</td>\n",
       "    </tr>\n",
       "    <tr>\n",
       "      <th>1</th>\n",
       "      <td>Dear Candidate,Greetings From Continental Immi...</td>\n",
       "      <td>6523883</td>\n",
       "      <td>Sales</td>\n",
       "    </tr>\n",
       "    <tr>\n",
       "      <th>2</th>\n",
       "      <td>We Have urgent poitions for Ticketing Executiv...</td>\n",
       "      <td>6600981</td>\n",
       "      <td>Ticketing</td>\n",
       "    </tr>\n",
       "    <tr>\n",
       "      <th>3</th>\n",
       "      <td>We Have Urgent positions for Travel booking cu...</td>\n",
       "      <td>6686185</td>\n",
       "      <td>Customer service</td>\n",
       "    </tr>\n",
       "    <tr>\n",
       "      <th>4</th>\n",
       "      <td>Experience in Travel Industry.We have urgent o...</td>\n",
       "      <td>6726409</td>\n",
       "      <td>Ticketing</td>\n",
       "    </tr>\n",
       "  </tbody>\n",
       "</table>\n",
       "</div>"
      ],
      "text/plain": [
       "                                         description  Document ID  \\\n",
       "0  Urgent positions for Travel Executive at Saane...      5922081   \n",
       "1  Dear Candidate,Greetings From Continental Immi...      6523883   \n",
       "2  We Have urgent poitions for Ticketing Executiv...      6600981   \n",
       "3  We Have Urgent positions for Travel booking cu...      6686185   \n",
       "4  Experience in Travel Industry.We have urgent o...      6726409   \n",
       "\n",
       "         Department  \n",
       "0  Customer service  \n",
       "1             Sales  \n",
       "2         Ticketing  \n",
       "3  Customer service  \n",
       "4         Ticketing  "
      ]
     },
     "execution_count": 303,
     "metadata": {},
     "output_type": "execute_result"
    }
   ],
   "source": [
    "df=pd.merge(df_description,df_label,on='Document ID',how='outer')\n",
    "df.head()"
   ]
  },
  {
   "cell_type": "markdown",
   "metadata": {},
   "source": [
    "# Data Exploration\n",
    "********\n",
    "\n",
    "    -Checking for null columns.\n",
    "    -Checking for column with empty strings.\n",
    "    -Stripping white spaces at beginning and end from the label names.\n",
    "    -Distribution of various categories."
   ]
  },
  {
   "cell_type": "code",
   "execution_count": 304,
   "metadata": {
    "ExecuteTime": {
     "end_time": "2018-09-16T06:57:49.572835Z",
     "start_time": "2018-09-16T06:57:49.568694Z"
    },
    "collapsed": false
   },
   "outputs": [
    {
     "name": "stdout",
     "output_type": "stream",
     "text": [
      "Total number of records is 1162\n"
     ]
    }
   ],
   "source": [
    "print(\"Total number of records is {}\".format(df.shape[0]))"
   ]
  },
  {
   "cell_type": "markdown",
   "metadata": {},
   "source": [
    "****\n",
    "<i>-No column has null values</i>"
   ]
  },
  {
   "cell_type": "code",
   "execution_count": 305,
   "metadata": {
    "ExecuteTime": {
     "end_time": "2018-09-16T06:57:50.957713Z",
     "start_time": "2018-09-16T06:57:50.950823Z"
    },
    "collapsed": false
   },
   "outputs": [
    {
     "data": {
      "text/plain": [
       "description    False\n",
       "Document ID    False\n",
       "Department     False\n",
       "dtype: bool"
      ]
     },
     "execution_count": 305,
     "metadata": {},
     "output_type": "execute_result"
    }
   ],
   "source": [
    "#No column has null values\n",
    "df.isnull().any()"
   ]
  },
  {
   "cell_type": "markdown",
   "metadata": {},
   "source": [
    "**********\n",
    "<i>-Out of 1162 records only 745 records are not empty strings.</i>"
   ]
  },
  {
   "cell_type": "code",
   "execution_count": 306,
   "metadata": {
    "ExecuteTime": {
     "end_time": "2018-09-16T06:57:52.272112Z",
     "start_time": "2018-09-16T06:57:52.266272Z"
    },
    "collapsed": false
   },
   "outputs": [
    {
     "name": "stdout",
     "output_type": "stream",
     "text": [
      "Total records after removing the empty strings is 745\n"
     ]
    }
   ],
   "source": [
    "df=df.loc[df['description']!='']\n",
    "print(\"Total records after removing the empty strings is {}\".format(df.shape[0]))"
   ]
  },
  {
   "cell_type": "markdown",
   "metadata": {
    "ExecuteTime": {
     "end_time": "2018-09-14T17:25:15.603329Z",
     "start_time": "2018-09-14T17:25:15.600081Z"
    }
   },
   "source": [
    "*****\n",
    "<i>-Remove spaces.<br>\n",
    "-Distribution of the label.</i>"
   ]
  },
  {
   "cell_type": "code",
   "execution_count": 307,
   "metadata": {
    "ExecuteTime": {
     "end_time": "2018-09-16T06:57:53.874494Z",
     "start_time": "2018-09-16T06:57:53.507779Z"
    },
    "collapsed": false
   },
   "outputs": [
    {
     "data": {
      "text/plain": [
       "Ticketing                          230\n",
       "Sales                              148\n",
       "Digital Marketing                  132\n",
       "Customer service                    49\n",
       "Marketing                           30\n",
       "Finance                             26\n",
       "Operations                          25\n",
       "Back office ticketing               16\n",
       "Administration                      15\n",
       "IT                                  13\n",
       "Presales                            10\n",
       "Technology                          10\n",
       "Maintenance                          8\n",
       "Recruitment                          5\n",
       "Public Relations                     5\n",
       "Engineering Design Construction      4\n",
       "Logistics                            3\n",
       "Marine Engineering                   3\n",
       "Content                              2\n",
       "Data entry                           2\n",
       "Marine Deck                          2\n",
       "Analytics                            2\n",
       "Procurement                          1\n",
       "Flight Operations                    1\n",
       "Marine Service Steward               1\n",
       "Learning and Development             1\n",
       "Airline Ground Operations            1\n",
       "Name: Department, dtype: int64"
      ]
     },
     "execution_count": 307,
     "metadata": {},
     "output_type": "execute_result"
    }
   ],
   "source": [
    "df['Department']=df['Department'].apply(lambda x: x.strip())\n",
    "df['Department'].value_counts()"
   ]
  },
  {
   "cell_type": "markdown",
   "metadata": {},
   "source": [
    "********\n",
    "<strong>Distribution Analysis</strong>\n",
    "\n",
    "    - Category with very less data points will be considered as noise by model so removing the categories \n",
    "    Logistics,Marine Engineering,Content,Marine Deck,Analytics,Data entry,Learning and Development,Airline Ground Operations,Marine Service Steward,Procurement,Flight Operations as these are having less than 4 records "
   ]
  },
  {
   "cell_type": "code",
   "execution_count": 308,
   "metadata": {
    "ExecuteTime": {
     "end_time": "2018-09-16T06:58:04.969230Z",
     "start_time": "2018-09-16T06:58:04.964624Z"
    },
    "collapsed": true
   },
   "outputs": [],
   "source": [
    "less_data_point_column=['Logistics','Marine Engineering','Content','Marine Deck','Data entry','Analytics','Procurement','Flight Operations','Marine Service Steward','Airline Ground Operations','Learning and Development']\n",
    "df=df.loc[~df['Department'].isin(less_data_point_column)]"
   ]
  },
  {
   "cell_type": "markdown",
   "metadata": {},
   "source": [
    "# DATA PREPROCESSING\n",
    "***********\n",
    "\n",
    "    -Helper function\n",
    "    -Data preprocessing using these functions\n",
    "    -Distribution of Length of text documents for a optimal selection of max length while building a model."
   ]
  },
  {
   "cell_type": "markdown",
   "metadata": {},
   "source": [
    "**************\n",
    "<i>- Helper Function for data processing</i>"
   ]
  },
  {
   "cell_type": "code",
   "execution_count": 309,
   "metadata": {
    "ExecuteTime": {
     "end_time": "2018-09-16T06:58:07.262570Z",
     "start_time": "2018-09-16T06:58:07.255997Z"
    },
    "collapsed": true
   },
   "outputs": [],
   "source": [
    "#Removing the HTML TAGS\n",
    "def htmltagRemoval(x):\n",
    "    return BeautifulSoup(x, 'lxml').get_text()\n",
    "\n",
    "def remove_mention(x):\n",
    "    return re.sub(r'@[A-Za-z0-9]+','',x)\n",
    "\n",
    "#Removing the urls\n",
    "def remove_urls(x):\n",
    "    return re.sub('https?://[A-Za-z0-9./]+','',x)\n",
    "\n",
    "#Removing the Numbers\n",
    "def remove_hastagNumbers(x):\n",
    "    return re.sub(\"[^a-zA-Z]\", \" \", x)\n",
    "\n",
    "#Split text at CamelCase\n",
    "def split_uppercase(x):\n",
    "    return str(\" \".join([\" \".join(re.split(\"([A-Z]{1}[a-z]+)\",word)) for word in x.split(' ')]))\n",
    "    \n",
    "#Converting text in lowercase\n",
    "def LowerCase(x):\n",
    "    return str(x.lower())\n",
    "\n",
    "#Removing stopwords\n",
    "def StopwordsRemoval(x):\n",
    "    return str(' '.join([each if each not in stopwordsList else '' for each in x.split(' ')]))\n",
    "\n",
    "#def remove_single_character_words(x):\n",
    "#    return str(' '.join([each if len(each)>1 else '' for each in x.split()]))\n",
    "\n",
    "#Removing multiple white spaces from the text\n",
    "def RemoveMultipleWhiteSpaces(x):\n",
    "    FILTER_MULTIPLE_WHITESPACES = \"\\s\\s+\"\n",
    "    return re.sub(FILTER_MULTIPLE_WHITESPACES,' ',x)\n",
    "\n",
    "# strip spaces at the end and the starting\n",
    "def toStripWhiteSpaces(x):\n",
    "    return x.strip()\n",
    "\n",
    "#Function for calling all the other functions\n",
    "def preprocess(x):\n",
    "    return toStripWhiteSpaces(RemoveMultipleWhiteSpaces(StopwordsRemoval(LowerCase(split_uppercase(remove_hastagNumbers(remove_urls(remove_mention(htmltagRemoval(x)))))))))\n"
   ]
  },
  {
   "cell_type": "markdown",
   "metadata": {
    "ExecuteTime": {
     "end_time": "2018-09-15T07:17:13.222608Z",
     "start_time": "2018-09-15T07:17:13.218361Z"
    }
   },
   "source": [
    "******\n",
    "<i>    - Processing text for helper functions</i>"
   ]
  },
  {
   "cell_type": "code",
   "execution_count": 310,
   "metadata": {
    "ExecuteTime": {
     "end_time": "2018-09-16T06:58:09.327294Z",
     "start_time": "2018-09-16T06:58:08.443008Z"
    },
    "collapsed": true
   },
   "outputs": [],
   "source": [
    "#Preprocessing the text by using helper functions\n",
    "df['preprocessed_description']=df['description'].apply(preprocess)"
   ]
  },
  {
   "cell_type": "markdown",
   "metadata": {
    "ExecuteTime": {
     "end_time": "2018-09-15T07:18:44.351583Z",
     "start_time": "2018-09-15T07:18:44.347643Z"
    }
   },
   "source": [
    "******\n",
    "\n",
    "<i>    - Distribution of Length of document Calculation</i>"
   ]
  },
  {
   "cell_type": "code",
   "execution_count": 311,
   "metadata": {
    "ExecuteTime": {
     "end_time": "2018-09-16T06:58:11.231824Z",
     "start_time": "2018-09-16T06:58:09.535328Z"
    },
    "collapsed": false
   },
   "outputs": [
    {
     "data": {
      "image/png": "[encoded data removed]",
      "text/plain": [
       "<Figure size 2160x2880 with 1 Axes>"
      ]
     },
     "metadata": {},
     "output_type": "display_data"
    }
   ],
   "source": [
    "#Length of documents\n",
    "df['Length_of_Documents']=df['preprocessed_description'].apply(lambda x: len(x.split(' ')))\n",
    "df.sort_values('Length_of_Documents',inplace=True,ascending=True)\n",
    "\n",
    "column_name='Length_of_Documents'\n",
    "fig,ax=plt.subplots(1,1,figsize=(30,40))\n",
    "\n",
    "#To change color of bar use m-magenta,c-cyan,r-red,g-green,b-blue\n",
    "df[column_name].value_counts().plot(kind='barh',ax=ax,title='Count/'+column_name,fontsize=15,color='LightGreen')\n",
    "\n",
    "title='COUNT/'+column_name\n",
    "ax.set_title(title,fontsize= 25,color='Gray')\n",
    "plt.gca().invert_yaxis()\n",
    "plt.xlabel('COUNT',fontsize=25,color='Gray')\n",
    "plt.ylabel(column_name,fontsize=25,color='Gray')\n",
    "\n",
    "fig.tight_layout()"
   ]
  },
  {
   "cell_type": "markdown",
   "metadata": {},
   "source": [
    "****************\n",
    "# Data Splitting\n",
    "\n",
    "    -Splitting the data in train test sample.\n",
    "    -Using stratified sampling to check the accuracy for each Department label.\n",
    "    "
   ]
  },
  {
   "cell_type": "code",
   "execution_count": 312,
   "metadata": {
    "ExecuteTime": {
     "end_time": "2018-09-16T06:58:11.433567Z",
     "start_time": "2018-09-16T06:58:11.428740Z"
    },
    "collapsed": true
   },
   "outputs": [],
   "source": [
    "from sklearn.model_selection import train_test_split\n",
    "Xtrain,Xtest,ytrain,ytest=train_test_split(df['preprocessed_description'].values,df['Department'].values,test_size=0.2,random_state=0,stratify=df['Department'].values)"
   ]
  },
  {
   "cell_type": "markdown",
   "metadata": {},
   "source": [
    "***********************\n",
    "# Different Model building approches\n",
    "\n",
    "    -Using a tokenized embedding layer folowed by a cnn model.\n",
    "    -Using a word embedding layer followed by a cnn model.\n",
    "    -Using a term frequency/inverse document frequency then training a SVM model"
   ]
  },
  {
   "cell_type": "markdown",
   "metadata": {},
   "source": [
    "***************\n",
    "## Tokenizer Embedding followed by a cnn model"
   ]
  },
  {
   "cell_type": "markdown",
   "metadata": {
    "ExecuteTime": {
     "end_time": "2018-09-15T07:34:43.034285Z",
     "start_time": "2018-09-15T07:34:43.029561Z"
    }
   },
   "source": [
    "*************\n",
    "<strong>Feature Engineering</strong>\n",
    "\n",
    "    - Converting text into features using tokenizer.\n",
    "    - Converting the Department labels into one hot encoding."
   ]
  },
  {
   "cell_type": "code",
   "execution_count": 313,
   "metadata": {
    "ExecuteTime": {
     "end_time": "2018-09-16T06:58:16.970829Z",
     "start_time": "2018-09-16T06:58:16.892106Z"
    },
    "collapsed": true
   },
   "outputs": [],
   "source": [
    "#####################################Features#############################################\n",
    "#Create a tokenizer Object\n",
    "tok = Tokenizer()\n",
    "\n",
    "#Initialize the tokenizer with training data\n",
    "tok.fit_on_texts(Xtrain)\n",
    "\n",
    "#Getting all the values\n",
    "texts=df['preprocessed_description'].values\n",
    "\n",
    "#Transform the entire data\n",
    "cnn_texts_seq = tok.texts_to_sequences(texts)\n",
    "\n",
    "#Maximum length of a sequence\n",
    "maxlen=100 \n",
    "\n",
    "#Padding the sequence for having same length\n",
    "cnn_texts_padded = sequence.pad_sequences(cnn_texts_seq,maxlen=max_len)\n",
    "\n",
    "\n",
    "###################################Target###################################################\n",
    "\n",
    "#Create a labelencoder \n",
    "le = LabelEncoder()\n",
    "\n",
    "#Initialize the labelencoder by training data\n",
    "le.fit(ytrain)\n",
    "\n",
    "#Getting all the values \n",
    "tags=df['Department'].values\n",
    "\n",
    "#Transform the entire data\n",
    "tags = le.transform(tags)\n",
    "\n",
    "#Converting the Label to one hot encoding\n",
    "ytrain_onehot = to_categorical(tags)"
   ]
  },
  {
   "cell_type": "code",
   "execution_count": 314,
   "metadata": {
    "ExecuteTime": {
     "end_time": "2018-09-16T06:58:18.073559Z",
     "start_time": "2018-09-16T06:58:18.070755Z"
    },
    "collapsed": true
   },
   "outputs": [],
   "source": [
    "#The vocabulary size of the text\n",
    "vocab_size=len(tok.word_index)+1"
   ]
  },
  {
   "cell_type": "markdown",
   "metadata": {},
   "source": [
    "***********\n",
    "<strong>Model Arhitecture</strong>"
   ]
  },
  {
   "cell_type": "code",
   "execution_count": 315,
   "metadata": {
    "ExecuteTime": {
     "end_time": "2018-09-16T06:58:25.474074Z",
     "start_time": "2018-09-16T06:58:19.720160Z"
    },
    "collapsed": false,
    "scrolled": false
   },
   "outputs": [
    {
     "name": "stdout",
     "output_type": "stream",
     "text": [
      "_________________________________________________________________\n",
      "Layer (type)                 Output Shape              Param #   \n",
      "=================================================================\n",
      "embedding_32 (Embedding)     (None, 100, 16)           64768     \n",
      "_________________________________________________________________\n",
      "dropout_60 (Dropout)         (None, 100, 16)           0         \n",
      "_________________________________________________________________\n",
      "conv1d_32 (Conv1D)           (None, 100, 32)           1056      \n",
      "_________________________________________________________________\n",
      "global_max_pooling1d_32 (Glo (None, 32)                0         \n",
      "_________________________________________________________________\n",
      "dense_63 (Dense)             (None, 32)                1056      \n",
      "_________________________________________________________________\n",
      "dropout_61 (Dropout)         (None, 32)                0         \n",
      "_________________________________________________________________\n",
      "dense_64 (Dense)             (None, 16)                528       \n",
      "=================================================================\n",
      "Total params: 67,408\n",
      "Trainable params: 67,408\n",
      "Non-trainable params: 0\n",
      "_________________________________________________________________\n",
      "Train on 580 samples, validate on 146 samples\n",
      "Epoch 1/20\n",
      "580/580 [==============================] - 2s 3ms/step - loss: 2.6669 - acc: 0.1655 - val_loss: 2.4368 - val_acc: 0.2808\n",
      "Epoch 2/20\n",
      "580/580 [==============================] - 0s 282us/step - loss: 2.2905 - acc: 0.2172 - val_loss: 1.9876 - val_acc: 0.3425\n",
      "Epoch 3/20\n",
      "580/580 [==============================] - 0s 283us/step - loss: 1.9547 - acc: 0.4276 - val_loss: 1.8688 - val_acc: 0.5548\n",
      "Epoch 4/20\n",
      "580/580 [==============================] - 0s 292us/step - loss: 1.7615 - acc: 0.5190 - val_loss: 1.7087 - val_acc: 0.5890\n",
      "Epoch 5/20\n",
      "580/580 [==============================] - 0s 288us/step - loss: 1.6085 - acc: 0.5259 - val_loss: 1.5837 - val_acc: 0.5616\n",
      "Epoch 6/20\n",
      "580/580 [==============================] - 0s 326us/step - loss: 1.5153 - acc: 0.5414 - val_loss: 1.5176 - val_acc: 0.5890\n",
      "Epoch 7/20\n",
      "580/580 [==============================] - 0s 281us/step - loss: 1.4489 - acc: 0.5655 - val_loss: 1.4678 - val_acc: 0.5959\n",
      "Epoch 8/20\n",
      "580/580 [==============================] - 0s 279us/step - loss: 1.3779 - acc: 0.5776 - val_loss: 1.4317 - val_acc: 0.6164\n",
      "Epoch 9/20\n",
      "580/580 [==============================] - 0s 272us/step - loss: 1.3104 - acc: 0.5862 - val_loss: 1.4066 - val_acc: 0.6233\n",
      "Epoch 10/20\n",
      "580/580 [==============================] - 0s 276us/step - loss: 1.2454 - acc: 0.6241 - val_loss: 1.3840 - val_acc: 0.6301\n",
      "Epoch 11/20\n",
      "580/580 [==============================] - 0s 284us/step - loss: 1.1435 - acc: 0.6362 - val_loss: 1.3904 - val_acc: 0.5959\n",
      "Epoch 12/20\n",
      "580/580 [==============================] - 0s 318us/step - loss: 1.0869 - acc: 0.6672 - val_loss: 1.3697 - val_acc: 0.5890\n",
      "Epoch 13/20\n",
      "580/580 [==============================] - 0s 295us/step - loss: 1.0154 - acc: 0.6707 - val_loss: 1.4125 - val_acc: 0.5822\n",
      "Epoch 14/20\n",
      "580/580 [==============================] - 0s 287us/step - loss: 0.9554 - acc: 0.7069 - val_loss: 1.4123 - val_acc: 0.5685\n",
      "Epoch 15/20\n",
      "580/580 [==============================] - 0s 279us/step - loss: 0.8773 - acc: 0.7345 - val_loss: 1.4063 - val_acc: 0.5890\n",
      "Epoch 16/20\n",
      "580/580 [==============================] - 0s 289us/step - loss: 0.8020 - acc: 0.7552 - val_loss: 1.4295 - val_acc: 0.5616\n",
      "Epoch 17/20\n",
      "580/580 [==============================] - 0s 297us/step - loss: 0.7610 - acc: 0.7793 - val_loss: 1.4630 - val_acc: 0.5479\n",
      "Epoch 18/20\n",
      "580/580 [==============================] - 0s 307us/step - loss: 0.6989 - acc: 0.8190 - val_loss: 1.4684 - val_acc: 0.5411\n",
      "Epoch 19/20\n",
      "580/580 [==============================] - 0s 282us/step - loss: 0.6504 - acc: 0.8121 - val_loss: 1.5239 - val_acc: 0.5000\n",
      "Epoch 20/20\n",
      "580/580 [==============================] - 0s 287us/step - loss: 0.5943 - acc: 0.8517 - val_loss: 1.4253 - val_acc: 0.5548\n"
     ]
    }
   ],
   "source": [
    "#Setting seed to control randomness\n",
    "np.random.seed(10)\n",
    "batch_size=16\n",
    "# added filter\n",
    "model = Sequential()\n",
    "model.add(Embedding(vocab_size,batch_size,input_length=max_len))\n",
    "model.add(Dropout(0.2))\n",
    "\n",
    "model.add(Conv1D(32, 2,padding='same',activation='relu',strides=1))\n",
    "model.add(GlobalMaxPooling1D())\n",
    "model.add(Dense(32))\n",
    "model.add(Dropout(0.2))\n",
    "\n",
    "model.add(Dense(16, activation='softmax'))\n",
    "model.summary()\n",
    "optimizer=Adam(lr=0.001)\n",
    "model.compile(optimizer=optimizer,loss='categorical_crossentropy',metrics=['accuracy'])\n",
    "history=model.fit(cnn_texts_padded,ytrain_onehot,batch_size=batch_size,epochs=20,verbose=1,validation_split=0.2)\n"
   ]
  },
  {
   "cell_type": "markdown",
   "metadata": {},
   "source": [
    "************************\n",
    "<strong>Plotting the results from model training</strong>"
   ]
  },
  {
   "cell_type": "code",
   "execution_count": 316,
   "metadata": {
    "ExecuteTime": {
     "end_time": "2018-09-16T06:58:25.831907Z",
     "start_time": "2018-09-16T06:58:25.671137Z"
    },
    "collapsed": false
   },
   "outputs": [
    {
     "data": {
      "image/png": "[encoded data removed]",
      "text/plain": [
       "<Figure size 432x288 with 1 Axes>"
      ]
     },
     "metadata": {},
     "output_type": "display_data"
    },
    {
     "data": {
      "image/png": "[encoded data removed]",
      "text/plain": [
       "<Figure size 432x288 with 1 Axes>"
      ]
     },
     "metadata": {},
     "output_type": "display_data"
    }
   ],
   "source": [
    "def plot_training(history):\n",
    "    acc = history.history['acc']\n",
    "    val_acc = history.history['val_acc']\n",
    "    loss = history.history['loss']\n",
    "    val_loss = history.history['val_loss']\n",
    "    epochs = range(len(acc))\n",
    "\n",
    "    plt.plot(epochs, acc, 'r.')\n",
    "    plt.plot(epochs, val_acc, 'r')\n",
    "    plt.title('Training and validation accuracy')\n",
    "\n",
    "    plt.figure()\n",
    "    plt.plot(epochs, loss, 'r.')\n",
    "    plt.plot(epochs, val_loss, 'r-')\n",
    "    plt.title('Training and validation loss')\n",
    "    plt.show()\n",
    "    \n",
    "    \n",
    "plot_training(history)"
   ]
  },
  {
   "cell_type": "markdown",
   "metadata": {},
   "source": [
    "<strong><i>The best accuracy of this model is 63.01 on validation set at epoch 10.<br>\n",
    "As the data points are very less the model will easily overfit.<br>\n",
    "This could be resolved by adding more data.</i></strong>"
   ]
  },
  {
   "cell_type": "markdown",
   "metadata": {},
   "source": [
    " ***********************\n",
    "## Word Embedding layer followed by cnn model"
   ]
  },
  {
   "cell_type": "markdown",
   "metadata": {},
   "source": [
    "*************\n",
    "<strong>Feature Engineering</strong>\n",
    "    \n",
    "    - Training the Word2Vec model.\n",
    "    - Converting text into features using Word2Vec model\n",
    "    - Converting the Department labels into one hot encoding."
   ]
  },
  {
   "cell_type": "code",
   "execution_count": 317,
   "metadata": {
    "ExecuteTime": {
     "end_time": "2018-09-16T06:58:36.421572Z",
     "start_time": "2018-09-16T06:58:36.414207Z"
    },
    "collapsed": true
   },
   "outputs": [],
   "source": [
    "#Creating token list for each sentence\n",
    "word_list_in_sentences=[]\n",
    "for sentence in Xtrain:\n",
    "    word_list_in_sentences.append(sentence.split())"
   ]
  },
  {
   "cell_type": "code",
   "execution_count": 318,
   "metadata": {
    "ExecuteTime": {
     "end_time": "2018-09-16T06:58:37.168126Z",
     "start_time": "2018-09-16T06:58:36.798532Z"
    },
    "collapsed": true
   },
   "outputs": [],
   "source": [
    "#Embedding Dimension \n",
    "embedding_dimension=100\n",
    "\n",
    "#Creating a word embedding model with the specified embedding\n",
    "word_embedding_model = Word2Vec(sentences=word_list_in_sentences, size=embedding_dimension, window=3, min_count=2, workers=4, sg=0)\n",
    "\n",
    "#Saving the word2vec model\n",
    "word_embedding_model.wv.save_word2vec_format('model/wordvectors.bin')\n"
   ]
  },
  {
   "cell_type": "code",
   "execution_count": 319,
   "metadata": {
    "ExecuteTime": {
     "end_time": "2018-09-16T06:58:38.409902Z",
     "start_time": "2018-09-16T06:58:38.401254Z"
    },
    "collapsed": false
   },
   "outputs": [
    {
     "data": {
      "text/plain": [
       "[('excellent', 0.9997909665107727),\n",
       " ('good', 0.9997710585594177),\n",
       " ('english', 0.9997198581695557),\n",
       " ('must', 0.9996811151504517),\n",
       " ('knowledge', 0.9996708035469055),\n",
       " ('communication', 0.9996092319488525),\n",
       " ('written', 0.9996014833450317),\n",
       " ('profile', 0.9995790719985962),\n",
       " ('candidate', 0.9995235204696655),\n",
       " ('apply', 0.9995076060295105)]"
      ]
     },
     "execution_count": 319,
     "metadata": {},
     "output_type": "execute_result"
    }
   ],
   "source": [
    "#Similar words\n",
    "word_embedding_model.wv.most_similar(\"skills\")"
   ]
  },
  {
   "cell_type": "markdown",
   "metadata": {},
   "source": [
    "**************\n",
    "  <i>  - Helper function for converting text into vectors </i>"
   ]
  },
  {
   "cell_type": "code",
   "execution_count": 320,
   "metadata": {
    "ExecuteTime": {
     "end_time": "2018-09-16T06:58:39.610922Z",
     "start_time": "2018-09-16T06:58:39.607084Z"
    },
    "collapsed": true
   },
   "outputs": [],
   "source": [
    "def get_text_vector(w2vmodel,sentence):\n",
    "    list_of_vectors=[]\n",
    "    for w in sentence.split(' '):\n",
    "        if w in w2vmodel.wv.vocab.keys():\n",
    "            list_of_vectors.append(w2vmodel[w])\n",
    "        else:\n",
    "            list_of_vectors.append(np.zeros(w2vmodel.vector_size))\n",
    "    return list_of_vectors\n",
    "\n",
    "def mean(a):\n",
    "    return np.mean(a, axis=0)\n",
    "\n",
    "def embedding_vector(w2vmodel,sentence):\n",
    "    return mean(get_text_vector(w2vmodel,sentence))"
   ]
  },
  {
   "cell_type": "code",
   "execution_count": 321,
   "metadata": {
    "ExecuteTime": {
     "end_time": "2018-09-16T06:58:41.046165Z",
     "start_time": "2018-09-16T06:58:40.593420Z"
    },
    "collapsed": false
   },
   "outputs": [
    {
     "name": "stderr",
     "output_type": "stream",
     "text": [
      "/opt/conda/lib/python3.6/site-packages/ipykernel_launcher.py:7: DeprecationWarning: Call to deprecated `wv` (Attribute will be removed in 4.0.0, use self instead).\n",
      "  import sys\n",
      "/opt/conda/lib/python3.6/site-packages/ipykernel_launcher.py:4: DeprecationWarning: Call to deprecated `wv` (Attribute will be removed in 4.0.0, use self instead).\n",
      "  after removing the cwd from sys.path.\n"
     ]
    }
   ],
   "source": [
    "#####################################Features#############################################\n",
    "\n",
    "#Loading the word2vec model\n",
    "w2vmodel =models.KeyedVectors.load_word2vec_format('model/wordvectors.bin',binary=False)\n",
    "\n",
    "#Vocabulary size\n",
    "vocab_size_w2v=len(w2vmodel.wv.vocab)\n",
    "\n",
    "\n",
    "#Getting all the values\n",
    "text_w2v=df['preprocessed_description'].values\n",
    "\n",
    "features=[]\n",
    "\n",
    "#Fetching features from the word2vec model for each text\n",
    "for each in text_w2v:\n",
    "    features.append(list(embedding_vector(w2vmodel,each)))\n",
    "\n",
    "#Features numpy matrix  \n",
    "features=np.array(features)\n",
    "    \n",
    "###################################Target###################################################\n",
    "\n",
    "#Create a labelencoder \n",
    "le_wv = LabelEncoder()\n",
    "\n",
    "#Initialize the labelencoder by training data\n",
    "le_wv.fit(ytrain)\n",
    "\n",
    "#Getting all the values \n",
    "tags_w2v=df['Department'].values\n",
    "\n",
    "#Transform the entire data\n",
    "label = le.transform(tags_w2v)\n",
    "\n",
    "#Converting the Label to one hot encoding\n",
    "ytrain_onehot_w2v = to_categorical(label)"
   ]
  },
  {
   "cell_type": "markdown",
   "metadata": {},
   "source": [
    "***********\n",
    "<strong>Model Arhitecture</strong>"
   ]
  },
  {
   "cell_type": "code",
   "execution_count": 322,
   "metadata": {
    "ExecuteTime": {
     "end_time": "2018-09-16T06:58:45.918638Z",
     "start_time": "2018-09-16T06:58:42.803502Z"
    },
    "collapsed": false,
    "scrolled": false
   },
   "outputs": [
    {
     "name": "stdout",
     "output_type": "stream",
     "text": [
      "_________________________________________________________________\n",
      "Layer (type)                 Output Shape              Param #   \n",
      "=================================================================\n",
      "embedding_33 (Embedding)     (None, 100, 16)           40032     \n",
      "_________________________________________________________________\n",
      "dropout_62 (Dropout)         (None, 100, 16)           0         \n",
      "_________________________________________________________________\n",
      "conv1d_33 (Conv1D)           (None, 100, 32)           1056      \n",
      "_________________________________________________________________\n",
      "global_max_pooling1d_33 (Glo (None, 32)                0         \n",
      "_________________________________________________________________\n",
      "dense_65 (Dense)             (None, 32)                1056      \n",
      "_________________________________________________________________\n",
      "dropout_63 (Dropout)         (None, 32)                0         \n",
      "_________________________________________________________________\n",
      "dense_66 (Dense)             (None, 16)                528       \n",
      "=================================================================\n",
      "Total params: 42,672\n",
      "Trainable params: 42,672\n",
      "Non-trainable params: 0\n",
      "_________________________________________________________________\n",
      "Train on 580 samples, validate on 146 samples\n",
      "Epoch 1/10\n",
      "580/580 [==============================] - 2s 3ms/step - loss: 2.6846 - acc: 0.1810 - val_loss: 2.5512 - val_acc: 0.2808\n",
      "Epoch 2/10\n",
      "580/580 [==============================] - 0s 139us/step - loss: 2.4470 - acc: 0.1776 - val_loss: 2.2030 - val_acc: 0.2808\n",
      "Epoch 3/10\n",
      "580/580 [==============================] - 0s 136us/step - loss: 2.2281 - acc: 0.2414 - val_loss: 2.0146 - val_acc: 0.4795\n",
      "Epoch 4/10\n",
      "580/580 [==============================] - 0s 134us/step - loss: 2.1747 - acc: 0.2259 - val_loss: 2.0311 - val_acc: 0.4795\n",
      "Epoch 5/10\n",
      "580/580 [==============================] - 0s 138us/step - loss: 2.1530 - acc: 0.2586 - val_loss: 2.0241 - val_acc: 0.4795\n",
      "Epoch 6/10\n",
      "580/580 [==============================] - 0s 137us/step - loss: 2.1494 - acc: 0.2414 - val_loss: 2.0204 - val_acc: 0.4795\n",
      "Epoch 7/10\n",
      "580/580 [==============================] - 0s 137us/step - loss: 2.1644 - acc: 0.2431 - val_loss: 2.0163 - val_acc: 0.4795\n",
      "Epoch 8/10\n",
      "580/580 [==============================] - 0s 138us/step - loss: 2.1336 - acc: 0.2638 - val_loss: 1.9854 - val_acc: 0.4795\n",
      "Epoch 9/10\n",
      "580/580 [==============================] - 0s 135us/step - loss: 2.1241 - acc: 0.2638 - val_loss: 2.0113 - val_acc: 0.4795\n",
      "Epoch 10/10\n",
      "580/580 [==============================] - 0s 135us/step - loss: 2.1360 - acc: 0.2431 - val_loss: 2.0040 - val_acc: 0.4795\n"
     ]
    }
   ],
   "source": [
    "np.random.seed(10)\n",
    "\n",
    "# added filter\n",
    "model = Sequential()\n",
    "model.add(Embedding(vocab_size_w2v,16,input_length=embedding_dimension))\n",
    "model.add(Dropout(0.2))\n",
    "model.add(Conv1D(32, 2,padding='same',activation='relu',strides=1))\n",
    "model.add(GlobalMaxPooling1D())\n",
    "model.add(Dense(32))\n",
    "model.add(Dropout(0.2))\n",
    "\n",
    "model.add(Dense(16, activation='softmax'))\n",
    "model.summary()\n",
    "optimizer=Adam(lr=0.0001)\n",
    "model.compile(optimizer='rmsprop',loss='categorical_crossentropy',metrics=['accuracy'])\n",
    "history=model.fit(features,ytrain_onehot_w2v,batch_size=32,epochs=10,verbose=1,validation_split=0.2)\n"
   ]
  },
  {
   "cell_type": "code",
   "execution_count": 323,
   "metadata": {
    "ExecuteTime": {
     "end_time": "2018-09-16T06:58:46.247787Z",
     "start_time": "2018-09-16T06:58:46.097286Z"
    },
    "collapsed": false
   },
   "outputs": [
    {
     "data": {
      "image/png": "[encoded data removed]",
      "text/plain": [
       "<Figure size 432x288 with 1 Axes>"
      ]
     },
     "metadata": {},
     "output_type": "display_data"
    },
    {
     "data": {
      "image/png": "[encoded data removed]",
      "text/plain": [
       "<Figure size 432x288 with 1 Axes>"
      ]
     },
     "metadata": {},
     "output_type": "display_data"
    }
   ],
   "source": [
    "def plot_training(history):\n",
    "    acc = history.history['acc']\n",
    "    val_acc = history.history['val_acc']\n",
    "    loss = history.history['loss']\n",
    "    val_loss = history.history['val_loss']\n",
    "    epochs = range(len(acc))\n",
    "\n",
    "    plt.plot(epochs, acc, 'r.')\n",
    "    plt.plot(epochs, val_acc, 'r')\n",
    "    plt.title('Training and validation accuracy')\n",
    "\n",
    "    plt.figure()\n",
    "    plt.plot(epochs, loss, 'r.')\n",
    "    plt.plot(epochs, val_loss, 'r-')\n",
    "    plt.title('Training and validation loss')\n",
    "    plt.show()\n",
    "    \n",
    "    \n",
    "plot_training(history)"
   ]
  },
  {
   "cell_type": "markdown",
   "metadata": {},
   "source": [
    "\n",
    "\n",
    "<strong><i>The model accuracy is 47.95%.<br>\n",
    "The model accuracy is going constant because the word embeddings is not a good feature conversion matrix for very less data.\n",
    "<br>\n",
    "This could be resolved by adding more data and then training word embeddings on top of that.</i></strong>"
   ]
  },
  {
   "cell_type": "markdown",
   "metadata": {},
   "source": [
    " ***********************\n",
    "## Creating term frequency-inverse document frequency and building a svm model"
   ]
  },
  {
   "cell_type": "markdown",
   "metadata": {},
   "source": [
    "*************\n",
    "<strong>Feature Engineering</strong>\n",
    "    \n",
    "    - Tranforming the data into features using tf-idf.\n",
    "    - Tranforming the labels into numbers using labelencoder.\n",
    "    - Building a SVM model"
   ]
  },
  {
   "cell_type": "code",
   "execution_count": 324,
   "metadata": {
    "ExecuteTime": {
     "end_time": "2018-09-16T06:58:51.457774Z",
     "start_time": "2018-09-16T06:58:51.365086Z"
    },
    "collapsed": true
   },
   "outputs": [],
   "source": [
    "########################################################################################################\n",
    "#########################################Train Data#####################################################\n",
    "########################################################################################################\n",
    "\n",
    "\n",
    "\n",
    "\n",
    "###########################################Features#####################################################\n",
    "\n",
    "#Creating a object of tf-idf vectorizer\n",
    "vec = TfidfVectorizer()\n",
    "\n",
    "#Initializing the vectorizer on train data\n",
    "X = vec.fit_transform(Xtrain)\n",
    "\n",
    "#Saving the matrix in a dataframe\n",
    "df_tf_idf = pd.DataFrame(X.toarray(), columns=vec.get_feature_names())\n",
    "\n",
    "\n",
    "############################################Labels########################################################\n",
    "\n",
    "#Creating a object of label encoder\n",
    "le = preprocessing.LabelEncoder()\n",
    "\n",
    "#Initializing the encoder on train data \n",
    "y_train_label_encoded=le.fit_transform(ytrain)\n",
    "\n",
    "\n",
    "########################################################################################################\n",
    "#########################################Test Data######################################################\n",
    "########################################################################################################\n",
    "\n",
    "\n",
    "###########################################Features#####################################################\n",
    "\n",
    "#Transform the test data \n",
    "X = vec.transform(Xtest)\n",
    "\n",
    "#Saving the matrix in a dataframe\n",
    "df_tf_idf_test = pd.DataFrame(X.toarray(), columns=vec.get_feature_names())\n",
    "\n",
    "\n",
    "############################################Labels#######################################################\n",
    "\n",
    "#Encoding the test set\n",
    "y_test_label_encoded=le.fit_transform(ytest)"
   ]
  },
  {
   "cell_type": "markdown",
   "metadata": {},
   "source": [
    "***********************\n",
    "<strong>Model Training</strong>"
   ]
  },
  {
   "cell_type": "code",
   "execution_count": 325,
   "metadata": {
    "ExecuteTime": {
     "end_time": "2018-09-16T06:58:52.908987Z",
     "start_time": "2018-09-16T06:58:52.851982Z"
    },
    "collapsed": false
   },
   "outputs": [
    {
     "data": {
      "text/plain": [
       "LinearSVC(C=1, class_weight=None, dual=True, fit_intercept=True,\n",
       "     intercept_scaling=1, loss='squared_hinge', max_iter=1000,\n",
       "     multi_class='ovr', penalty='l2', random_state=0, tol=0.0001,\n",
       "     verbose=0)"
      ]
     },
     "execution_count": 325,
     "metadata": {},
     "output_type": "execute_result"
    }
   ],
   "source": [
    "from sklearn.svm import LinearSVC\n",
    "\n",
    "#Creating a SVM object with a random state for reproducible results\n",
    "clf = LinearSVC(random_state=0,C=1)\n",
    "\n",
    "#Training the model on train data\n",
    "clf.fit(df_tf_idf,y_train_label_encoded)\n",
    "\n"
   ]
  },
  {
   "cell_type": "markdown",
   "metadata": {},
   "source": [
    "*************************\n",
    "<strong>Evaluating the model</strong>"
   ]
  },
  {
   "cell_type": "code",
   "execution_count": 326,
   "metadata": {
    "ExecuteTime": {
     "end_time": "2018-09-16T06:58:54.507274Z",
     "start_time": "2018-09-16T06:58:54.497967Z"
    },
    "collapsed": false
   },
   "outputs": [
    {
     "name": "stdout",
     "output_type": "stream",
     "text": [
      "Accuracy of the model is 0.7465753424657534\n"
     ]
    }
   ],
   "source": [
    "from sklearn.metrics import confusion_matrix,roc_curve,auc,accuracy_score\n",
    "\n",
    "y_predicted_test=clf.predict(df_tf_idf_test)\n",
    "cm=confusion_matrix(y_test_label_encoded,y_predicted_test)\n",
    "accuracy=accuracy_score(y_test_label_encoded,y_predicted_test)\n",
    "print(\"Accuracy of the model is {}\".format(accuracy))\n",
    "\n"
   ]
  },
  {
   "cell_type": "code",
   "execution_count": 327,
   "metadata": {
    "ExecuteTime": {
     "end_time": "2018-09-16T06:58:55.585294Z",
     "start_time": "2018-09-16T06:58:55.579160Z"
    },
    "collapsed": false
   },
   "outputs": [
    {
     "name": "stdout",
     "output_type": "stream",
     "text": [
      "                                 precision    recall  f1-score   support\n",
      "\n",
      "                 Administration       0.00      0.00      0.00         3\n",
      "          Back office ticketing       0.50      0.67      0.57         3\n",
      "               Customer service       1.00      0.30      0.46        10\n",
      "              Digital Marketing       0.96      0.96      0.96        26\n",
      "Engineering Design Construction       0.00      0.00      0.00         1\n",
      "                        Finance       1.00      0.40      0.57         5\n",
      "                             IT       1.00      0.67      0.80         3\n",
      "                    Maintenance       1.00      0.50      0.67         2\n",
      "                      Marketing       1.00      0.33      0.50         6\n",
      "                     Operations       0.50      0.40      0.44         5\n",
      "                       Presales       0.00      0.00      0.00         2\n",
      "               Public Relations       0.00      0.00      0.00         1\n",
      "                    Recruitment       1.00      1.00      1.00         1\n",
      "                          Sales       0.73      0.90      0.81        30\n",
      "                     Technology       0.00      0.00      0.00         2\n",
      "                      Ticketing       0.69      0.91      0.79        46\n",
      "\n",
      "                    avg / total       0.75      0.75      0.72       146\n",
      "\n"
     ]
    },
    {
     "name": "stderr",
     "output_type": "stream",
     "text": [
      "/opt/conda/lib/python3.6/site-packages/sklearn/metrics/classification.py:1135: UndefinedMetricWarning: Precision and F-score are ill-defined and being set to 0.0 in labels with no predicted samples.\n",
      "  'precision', 'predicted', average, warn_for)\n"
     ]
    }
   ],
   "source": [
    "#Classification report\n",
    "from sklearn.metrics import classification_report\n",
    "print(classification_report(y_test_label_encoded, y_predicted_test, target_names=le.classes_))\n"
   ]
  },
  {
   "cell_type": "markdown",
   "metadata": {},
   "source": [
    "<strong><i>The model accuracy is 74.65% on validation set.<br>\n",
    "As the data points are very less the model will easily overfit.<br>\n",
    "This could be resolved by adding more data.</i></strong>"
   ]
  },
  {
   "cell_type": "markdown",
   "metadata": {},
   "source": [
    "***********************\n",
    "************************\n",
    "# CONCLUSION"
   ]
  },
  {
   "cell_type": "markdown",
   "metadata": {},
   "source": [
    "## <strong>The three model approaches</strong>\n",
    "    \n",
    "  <i><u>Tokenizer with cnn<u></i><br>\n",
    "\n",
    "<strong>Pros</strong><br>\n",
    "- The model is giving a accuracy of <strong>63.01%</strong> which can be further improved by fine tuning the model.\n",
    "- The tokenized representation is performing better for less data points.<br>\n",
    "\n",
    "<strong>Cons</strong><br> \n",
    "- In case of increasing the data the model will not perform very good.\n",
    "- The optimum sequence length will be majorly affecting the accuracy of the model.\n",
    "                    \n",
    "<i><u>Word Embedding with cnn<u></i><br>\n",
    "\n",
    "\n",
    "<strong>Pros</strong><br>\n",
    "- The model is highly scalable although it is giving a accuracy of just <strong>47.95%</strong> but with increase in data word embedding will outperform other tokenizer based approches. <br>\n",
    "\n",
    "<strong>Cons</strong><br> \n",
    "- The word embedding representation can not handle out of vocabulary(OOV) word problem hence the words which are not in training data but present in test data cannot be taken.\n",
    "\n",
    "<i><u>TF-IDF with SVM model<u></i><br>\n",
    "\n",
    "\n",
    "<strong>Pros</strong><br>\n",
    "- As the data is less this model will outperform all the other models providing a accuracy of <strong>74.65%</strong> . <br>\n",
    "- SVM is computationally expensive but some variation of SVM are highly efficient in sense of time complexity and the accuracy even when the data is more.\n",
    "\n",
    "<strong>Cons</strong><br> \n",
    "- The tf-idf will not suite with large amout of data and memory issues will come because of the large matrix size..\n",
    "\n",
    "\n"
   ]
  },
  {
   "cell_type": "markdown",
   "metadata": {},
   "source": [
    "*****************\n",
    "## Challenges in working with this data."
   ]
  },
  {
   "cell_type": "markdown",
   "metadata": {},
   "source": [
    "- The regular expression approach for replacing specific keywords may not work as the data will increase,the cleaning will take more time and regex is not that much scalable.Even for 1 million records it will take days to process it and if it fails we cannot track it properly.\n",
    "- Identifying the name of the person in the mail as in future that person may not be available or there are persons with same name in two departments.\n",
    "- Identifying the system generated templates and messages or signature.\n",
    "- Handling the typos that is human errors.\n",
    "- Handling words with length less than 3 e.g. it,hr [for this usecase these are important words] and cannot be replaced directly.\n",
    "- Word embedding may not be best for representation as the out of vocabulary problem will still be there.\n",
    "- We have to consider the time of model response also.If it is taking too much time it may create a lag in user interface and thus providing less profit.\n",
    "- If we are looking for top 3-5 suggestions we have go with some probability based classifiers \n"
   ]
  },
  {
   "cell_type": "markdown",
   "metadata": {},
   "source": [
    "*****************\n",
    "## Future Works"
   ]
  },
  {
   "cell_type": "markdown",
   "metadata": {
    "ExecuteTime": {
     "end_time": "2018-09-16T06:45:34.753601Z",
     "start_time": "2018-09-16T06:45:34.748925Z"
    }
   },
   "source": [
    "- For handling replacement of words we have to consider some other data structures based approach which will be highly efficient.\n",
    "- Trying out some more low level embedding like character we can solve the problem of out of vocabulary word.\n",
    "- Using a content specific auto correction may help in removing typos.\n",
    "- Building a list of stopwords like [dear,regards,thank you,must,should] these are use case specific stopwords and need to be taken care of.\n",
    "- Having a curated list of business specific words will help in tokenizing the text and creating ngrams for those words.\n",
    "- Collecting the list of all the agent or by using dictionary based approach the problem of name detection can be removed.We can try with NER tagging also.\n",
    "- Model training can be improved by trying other approaches which are build majorly for text classification and response is fast with a probability of each class label. \n",
    "\n"
   ]
  },
  {
   "cell_type": "code",
   "execution_count": null,
   "metadata": {
    "collapsed": true
   },
   "outputs": [],
   "source": []
  }
 ],
 "metadata": {
  "anaconda-cloud": {},
  "kernelspec": {
   "display_name": "Python [default]",
   "language": "python",
   "name": "python3"
  },
  "language_info": {
   "codemirror_mode": {
    "name": "ipython",
    "version": 3
   },
   "file_extension": ".py",
   "mimetype": "text/x-python",
   "name": "python",
   "nbconvert_exporter": "python",
   "pygments_lexer": "ipython3",
   "version": "3.5.2"
  },
  "toc": {
   "base_numbering": 1,
   "nav_menu": {},
   "number_sections": true,
   "sideBar": true,
   "skip_h1_title": false,
   "title_cell": "Table of Contents",
   "title_sidebar": "Contents",
   "toc_cell": false,
   "toc_position": {},
   "toc_section_display": true,
   "toc_window_display": false
  },
  "varInspector": {
   "cols": {
    "lenName": 16,
    "lenType": 16,
    "lenVar": 40
   },
   "kernels_config": {
    "python": {
     "delete_cmd_postfix": "",
     "delete_cmd_prefix": "del ",
     "library": "var_list.py",
     "varRefreshCmd": "print(var_dic_list())"
    },
    "r": {
     "delete_cmd_postfix": ") ",
     "delete_cmd_prefix": "rm(",
     "library": "var_list.r",
     "varRefreshCmd": "cat(var_dic_list()) "
    }
   },
   "types_to_exclude": [
    "module",
    "function",
    "builtin_function_or_method",
    "instance",
    "_Feature"
   ],
   "window_display": false
  }
 },
 "nbformat": 4,
 "nbformat_minor": 2
}
